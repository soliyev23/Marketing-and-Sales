{
 "cells": [
  {
   "cell_type": "code",
   "execution_count": 40,
   "metadata": {},
   "outputs": [
    {
     "data": {
      "text/html": [
       "<div>\n",
       "<style scoped>\n",
       "    .dataframe tbody tr th:only-of-type {\n",
       "        vertical-align: middle;\n",
       "    }\n",
       "\n",
       "    .dataframe tbody tr th {\n",
       "        vertical-align: top;\n",
       "    }\n",
       "\n",
       "    .dataframe thead th {\n",
       "        text-align: right;\n",
       "    }\n",
       "</style>\n",
       "<table border=\"1\" class=\"dataframe\">\n",
       "  <thead>\n",
       "    <tr style=\"text-align: right;\">\n",
       "      <th></th>\n",
       "      <th>ShipMethodID</th>\n",
       "      <th>TerritoryID</th>\n",
       "      <th>CustomerID</th>\n",
       "      <th>OnlineOrderFlag</th>\n",
       "      <th>ShipToAddressID</th>\n",
       "      <th>BillToAddressID</th>\n",
       "      <th>OrderQty</th>\n",
       "      <th>UnitPrice</th>\n",
       "      <th>UnitPriceDiscount</th>\n",
       "      <th>TotalDue</th>\n",
       "    </tr>\n",
       "  </thead>\n",
       "  <tbody>\n",
       "    <tr>\n",
       "      <th>0</th>\n",
       "      <td>5</td>\n",
       "      <td>5</td>\n",
       "      <td>29825</td>\n",
       "      <td>0</td>\n",
       "      <td>985</td>\n",
       "      <td>985</td>\n",
       "      <td>1</td>\n",
       "      <td>2024,994</td>\n",
       "      <td>0,00</td>\n",
       "      <td>23153,2339</td>\n",
       "    </tr>\n",
       "    <tr>\n",
       "      <th>1</th>\n",
       "      <td>5</td>\n",
       "      <td>5</td>\n",
       "      <td>29825</td>\n",
       "      <td>0</td>\n",
       "      <td>985</td>\n",
       "      <td>985</td>\n",
       "      <td>3</td>\n",
       "      <td>2024,994</td>\n",
       "      <td>0,00</td>\n",
       "      <td>23153,2339</td>\n",
       "    </tr>\n",
       "    <tr>\n",
       "      <th>2</th>\n",
       "      <td>5</td>\n",
       "      <td>5</td>\n",
       "      <td>29825</td>\n",
       "      <td>0</td>\n",
       "      <td>985</td>\n",
       "      <td>985</td>\n",
       "      <td>1</td>\n",
       "      <td>2024,994</td>\n",
       "      <td>0,00</td>\n",
       "      <td>23153,2339</td>\n",
       "    </tr>\n",
       "    <tr>\n",
       "      <th>3</th>\n",
       "      <td>5</td>\n",
       "      <td>5</td>\n",
       "      <td>29825</td>\n",
       "      <td>0</td>\n",
       "      <td>985</td>\n",
       "      <td>985</td>\n",
       "      <td>1</td>\n",
       "      <td>2039,994</td>\n",
       "      <td>0,00</td>\n",
       "      <td>23153,2339</td>\n",
       "    </tr>\n",
       "    <tr>\n",
       "      <th>4</th>\n",
       "      <td>5</td>\n",
       "      <td>5</td>\n",
       "      <td>29825</td>\n",
       "      <td>0</td>\n",
       "      <td>985</td>\n",
       "      <td>985</td>\n",
       "      <td>1</td>\n",
       "      <td>2039,994</td>\n",
       "      <td>0,00</td>\n",
       "      <td>23153,2339</td>\n",
       "    </tr>\n",
       "  </tbody>\n",
       "</table>\n",
       "</div>"
      ],
      "text/plain": [
       "   ShipMethodID  TerritoryID  CustomerID  OnlineOrderFlag  ShipToAddressID  \\\n",
       "0             5            5       29825                0              985   \n",
       "1             5            5       29825                0              985   \n",
       "2             5            5       29825                0              985   \n",
       "3             5            5       29825                0              985   \n",
       "4             5            5       29825                0              985   \n",
       "\n",
       "   BillToAddressID  OrderQty UnitPrice UnitPriceDiscount    TotalDue  \n",
       "0              985         1  2024,994              0,00  23153,2339  \n",
       "1              985         3  2024,994              0,00  23153,2339  \n",
       "2              985         1  2024,994              0,00  23153,2339  \n",
       "3              985         1  2039,994              0,00  23153,2339  \n",
       "4              985         1  2039,994              0,00  23153,2339  "
      ]
     },
     "execution_count": 40,
     "metadata": {},
     "output_type": "execute_result"
    }
   ],
   "source": [
    "import pandas as pd\n",
    "import numpy as np\n",
    "from sklearn.model_selection import train_test_split\n",
    "from sklearn.linear_model import LinearRegression\n",
    "from sklearn.preprocessing import LabelEncoder, StandardScaler\n",
    "from sklearn.metrics import mean_squared_error, r2_score\n",
    "df = pd.read_csv(\"features_table.csv\",sep=';')\n",
    "df = df.drop(columns=[\"OrderDate\", \"ShipDate\",\"CreditCardApprovalCode\"])\n",
    "df.head()"
   ]
  },
  {
   "cell_type": "code",
   "execution_count": 41,
   "metadata": {},
   "outputs": [
    {
     "data": {
      "text/plain": [
       "ShipMethodID           int64\n",
       "TerritoryID            int64\n",
       "CustomerID             int64\n",
       "OnlineOrderFlag        int64\n",
       "ShipToAddressID        int64\n",
       "BillToAddressID        int64\n",
       "OrderQty               int64\n",
       "UnitPrice            float64\n",
       "UnitPriceDiscount    float64\n",
       "TotalDue             float64\n",
       "dtype: object"
      ]
     },
     "execution_count": 41,
     "metadata": {},
     "output_type": "execute_result"
    }
   ],
   "source": [
    "df[\"UnitPrice\"] = df[\"UnitPrice\"].str.replace(',', '.').astype('float')\n",
    "df[\"UnitPriceDiscount\"] = df[\"UnitPriceDiscount\"].str.replace(',', '.').astype('float')\n",
    "df[\"TotalDue\"] = df[\"TotalDue\"].str.replace(',', '.').astype('float')\n",
    "df.dtypes\n"
   ]
  },
  {
   "cell_type": "code",
   "execution_count": 42,
   "metadata": {},
   "outputs": [],
   "source": [
    "X = df.drop(columns='TotalDue',axis=1)\n",
    "y = df[[\"TotalDue\"]]"
   ]
  },
  {
   "cell_type": "code",
   "execution_count": 52,
   "metadata": {},
   "outputs": [
    {
     "name": "stdout",
     "output_type": "stream",
     "text": [
      "MSE ---> 21468.835742277042\n"
     ]
    }
   ],
   "source": [
    "X_train, X_test, y_train,y_test = train_test_split(X,y, train_size=0.2,random_state=42)\n",
    "\n",
    "model = LinearRegression()\n",
    "model.fit(X_train,y_train)\n",
    "\n",
    "y_pred = model.predict(X_test)\n",
    "\n",
    "print(f\"MSE ---> {np.sqrt(mean_squared_error(y_pred,y_test))}\")"
   ]
  }
 ],
 "metadata": {
  "kernelspec": {
   "display_name": "Python 3",
   "language": "python",
   "name": "python3"
  },
  "language_info": {
   "codemirror_mode": {
    "name": "ipython",
    "version": 3
   },
   "file_extension": ".py",
   "mimetype": "text/x-python",
   "name": "python",
   "nbconvert_exporter": "python",
   "pygments_lexer": "ipython3",
   "version": "3.12.0"
  }
 },
 "nbformat": 4,
 "nbformat_minor": 2
}
